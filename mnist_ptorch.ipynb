{
 "cells": [
  {
   "cell_type": "code",
   "execution_count": 1,
   "id": "c4f5508d",
   "metadata": {},
   "outputs": [
    {
     "name": "stdout",
     "output_type": "stream",
     "text": [
      "Requirement already satisfied: torch in /Users/denysaleksandrov/Envs/jupyter/lib/python3.9/site-packages (2.0.1)\n",
      "Requirement already satisfied: filelock in /Users/denysaleksandrov/Envs/jupyter/lib/python3.9/site-packages (from torch) (3.12.4)\n",
      "Requirement already satisfied: typing-extensions in /Users/denysaleksandrov/Envs/jupyter/lib/python3.9/site-packages (from torch) (4.8.0)\n",
      "Requirement already satisfied: sympy in /Users/denysaleksandrov/Envs/jupyter/lib/python3.9/site-packages (from torch) (1.13.3)\n",
      "Requirement already satisfied: networkx in /Users/denysaleksandrov/Envs/jupyter/lib/python3.9/site-packages (from torch) (3.1)\n",
      "Requirement already satisfied: jinja2 in /Users/denysaleksandrov/Envs/jupyter/lib/python3.9/site-packages (from torch) (3.1.2)\n",
      "Requirement already satisfied: MarkupSafe>=2.0 in /Users/denysaleksandrov/Envs/jupyter/lib/python3.9/site-packages (from jinja2->torch) (2.1.1)\n",
      "Requirement already satisfied: mpmath<1.4,>=1.1.0 in /Users/denysaleksandrov/Envs/jupyter/lib/python3.9/site-packages (from sympy->torch) (1.3.0)\n",
      "\n",
      "\u001b[1m[\u001b[0m\u001b[34;49mnotice\u001b[0m\u001b[1;39;49m]\u001b[0m\u001b[39;49m A new release of pip is available: \u001b[0m\u001b[31;49m25.0.1\u001b[0m\u001b[39;49m -> \u001b[0m\u001b[32;49m25.1.1\u001b[0m\n",
      "\u001b[1m[\u001b[0m\u001b[34;49mnotice\u001b[0m\u001b[1;39;49m]\u001b[0m\u001b[39;49m To update, run: \u001b[0m\u001b[32;49mpip install --upgrade pip\u001b[0m\n"
     ]
    }
   ],
   "source": [
    "!pip install torch"
   ]
  },
  {
   "cell_type": "code",
   "execution_count": 2,
   "id": "06cf9b28",
   "metadata": {},
   "outputs": [
    {
     "name": "stdout",
     "output_type": "stream",
     "text": [
      "dr/dx = 192.0\n",
      "dr/dy = 96.0\n",
      "dr/dz = 72.0\n"
     ]
    }
   ],
   "source": [
    "import torch\n",
    "\n",
    "x = torch.tensor(1.0, requires_grad=True)\n",
    "y = torch.tensor(2.0, requires_grad=True)\n",
    "z = torch.tensor(4.0, requires_grad=True)\n",
    "\n",
    "# forward pass\n",
    "u = x ** 2\n",
    "v = u + y\n",
    "w = z * v\n",
    "r = w ** 2\n",
    "\n",
    "# backward pass\n",
    "r.backward()\n",
    "print(f'dr/dx = {x.grad}')\n",
    "print(f'dr/dy = {y.grad}')\n",
    "print(f'dr/dz = {z.grad}')"
   ]
  },
  {
   "cell_type": "code",
   "execution_count": 3,
   "id": "10a33452",
   "metadata": {},
   "outputs": [
    {
     "data": {
      "text/plain": [
       "(tensor(1., grad_fn=<PowBackward0>),\n",
       " tensor(3., grad_fn=<AddBackward0>),\n",
       " tensor(12., grad_fn=<MulBackward0>),\n",
       " tensor(144., grad_fn=<PowBackward0>))"
      ]
     },
     "execution_count": 3,
     "metadata": {},
     "output_type": "execute_result"
    }
   ],
   "source": [
    "u, v, w, r"
   ]
  },
  {
   "cell_type": "code",
   "execution_count": 4,
   "id": "c7b70b21",
   "metadata": {},
   "outputs": [],
   "source": [
    "dr = (z*((x**2) + y)) ** 2"
   ]
  },
  {
   "cell_type": "code",
   "execution_count": 5,
   "id": "0e20e4d3",
   "metadata": {},
   "outputs": [
    {
     "data": {
      "text/plain": [
       "tensor(144., grad_fn=<PowBackward0>)"
      ]
     },
     "execution_count": 5,
     "metadata": {},
     "output_type": "execute_result"
    }
   ],
   "source": [
    "dr"
   ]
  }
 ],
 "metadata": {
  "kernelspec": {
   "display_name": "Python 3 (ipykernel)",
   "language": "python",
   "name": "python3"
  },
  "language_info": {
   "codemirror_mode": {
    "name": "ipython",
    "version": 3
   },
   "file_extension": ".py",
   "mimetype": "text/x-python",
   "name": "python",
   "nbconvert_exporter": "python",
   "pygments_lexer": "ipython3",
   "version": "3.9.16"
  }
 },
 "nbformat": 4,
 "nbformat_minor": 5
}
