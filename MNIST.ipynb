{
 "cells": [
  {
   "cell_type": "code",
   "execution_count": 1,
   "id": "794fe460",
   "metadata": {},
   "outputs": [],
   "source": [
    "import numpy as np\n",
    "import pandas as pd\n",
    "from matplotlib import pyplot as plt"
   ]
  },
  {
   "cell_type": "code",
   "execution_count": 2,
   "id": "381051d5",
   "metadata": {},
   "outputs": [],
   "source": [
    "datat = pd.read_csv(\"datasets/mnist_train_small.csv\")\n",
    "datatest = pd.read_csv(\"datasets/mnist_test.csv\")\n",
    "# datatitanictrain = pd.read_csv(\"train.csv\")\n",
    "# datatitanicttest = pd.read_csv(\"train.csv\")\n",
    "# edatatraining = pd.read_csv(\"datasets/emnist-letters-train.csv\")\n",
    "# edatatest = pd.read_csv(\"datasets/emnist-letters-test.csv\")"
   ]
  },
  {
   "cell_type": "code",
   "execution_count": 3,
   "id": "3e56e020",
   "metadata": {},
   "outputs": [
    {
     "data": {
      "text/html": [
       "<div>\n",
       "<style scoped>\n",
       "    .dataframe tbody tr th:only-of-type {\n",
       "        vertical-align: middle;\n",
       "    }\n",
       "\n",
       "    .dataframe tbody tr th {\n",
       "        vertical-align: top;\n",
       "    }\n",
       "\n",
       "    .dataframe thead th {\n",
       "        text-align: right;\n",
       "    }\n",
       "</style>\n",
       "<table border=\"1\" class=\"dataframe\">\n",
       "  <thead>\n",
       "    <tr style=\"text-align: right;\">\n",
       "      <th></th>\n",
       "      <th>6</th>\n",
       "      <th>0</th>\n",
       "      <th>0.1</th>\n",
       "      <th>0.2</th>\n",
       "      <th>0.3</th>\n",
       "      <th>0.4</th>\n",
       "      <th>0.5</th>\n",
       "      <th>0.6</th>\n",
       "      <th>0.7</th>\n",
       "      <th>0.8</th>\n",
       "      <th>...</th>\n",
       "      <th>0.581</th>\n",
       "      <th>0.582</th>\n",
       "      <th>0.583</th>\n",
       "      <th>0.584</th>\n",
       "      <th>0.585</th>\n",
       "      <th>0.586</th>\n",
       "      <th>0.587</th>\n",
       "      <th>0.588</th>\n",
       "      <th>0.589</th>\n",
       "      <th>0.590</th>\n",
       "    </tr>\n",
       "  </thead>\n",
       "  <tbody>\n",
       "    <tr>\n",
       "      <th>0</th>\n",
       "      <td>5</td>\n",
       "      <td>0</td>\n",
       "      <td>0</td>\n",
       "      <td>0</td>\n",
       "      <td>0</td>\n",
       "      <td>0</td>\n",
       "      <td>0</td>\n",
       "      <td>0</td>\n",
       "      <td>0</td>\n",
       "      <td>0</td>\n",
       "      <td>...</td>\n",
       "      <td>0</td>\n",
       "      <td>0</td>\n",
       "      <td>0</td>\n",
       "      <td>0</td>\n",
       "      <td>0</td>\n",
       "      <td>0</td>\n",
       "      <td>0</td>\n",
       "      <td>0</td>\n",
       "      <td>0</td>\n",
       "      <td>0</td>\n",
       "    </tr>\n",
       "    <tr>\n",
       "      <th>1</th>\n",
       "      <td>7</td>\n",
       "      <td>0</td>\n",
       "      <td>0</td>\n",
       "      <td>0</td>\n",
       "      <td>0</td>\n",
       "      <td>0</td>\n",
       "      <td>0</td>\n",
       "      <td>0</td>\n",
       "      <td>0</td>\n",
       "      <td>0</td>\n",
       "      <td>...</td>\n",
       "      <td>0</td>\n",
       "      <td>0</td>\n",
       "      <td>0</td>\n",
       "      <td>0</td>\n",
       "      <td>0</td>\n",
       "      <td>0</td>\n",
       "      <td>0</td>\n",
       "      <td>0</td>\n",
       "      <td>0</td>\n",
       "      <td>0</td>\n",
       "    </tr>\n",
       "    <tr>\n",
       "      <th>2</th>\n",
       "      <td>9</td>\n",
       "      <td>0</td>\n",
       "      <td>0</td>\n",
       "      <td>0</td>\n",
       "      <td>0</td>\n",
       "      <td>0</td>\n",
       "      <td>0</td>\n",
       "      <td>0</td>\n",
       "      <td>0</td>\n",
       "      <td>0</td>\n",
       "      <td>...</td>\n",
       "      <td>0</td>\n",
       "      <td>0</td>\n",
       "      <td>0</td>\n",
       "      <td>0</td>\n",
       "      <td>0</td>\n",
       "      <td>0</td>\n",
       "      <td>0</td>\n",
       "      <td>0</td>\n",
       "      <td>0</td>\n",
       "      <td>0</td>\n",
       "    </tr>\n",
       "    <tr>\n",
       "      <th>3</th>\n",
       "      <td>5</td>\n",
       "      <td>0</td>\n",
       "      <td>0</td>\n",
       "      <td>0</td>\n",
       "      <td>0</td>\n",
       "      <td>0</td>\n",
       "      <td>0</td>\n",
       "      <td>0</td>\n",
       "      <td>0</td>\n",
       "      <td>0</td>\n",
       "      <td>...</td>\n",
       "      <td>0</td>\n",
       "      <td>0</td>\n",
       "      <td>0</td>\n",
       "      <td>0</td>\n",
       "      <td>0</td>\n",
       "      <td>0</td>\n",
       "      <td>0</td>\n",
       "      <td>0</td>\n",
       "      <td>0</td>\n",
       "      <td>0</td>\n",
       "    </tr>\n",
       "    <tr>\n",
       "      <th>4</th>\n",
       "      <td>2</td>\n",
       "      <td>0</td>\n",
       "      <td>0</td>\n",
       "      <td>0</td>\n",
       "      <td>0</td>\n",
       "      <td>0</td>\n",
       "      <td>0</td>\n",
       "      <td>0</td>\n",
       "      <td>0</td>\n",
       "      <td>0</td>\n",
       "      <td>...</td>\n",
       "      <td>0</td>\n",
       "      <td>0</td>\n",
       "      <td>0</td>\n",
       "      <td>0</td>\n",
       "      <td>0</td>\n",
       "      <td>0</td>\n",
       "      <td>0</td>\n",
       "      <td>0</td>\n",
       "      <td>0</td>\n",
       "      <td>0</td>\n",
       "    </tr>\n",
       "    <tr>\n",
       "      <th>...</th>\n",
       "      <td>...</td>\n",
       "      <td>...</td>\n",
       "      <td>...</td>\n",
       "      <td>...</td>\n",
       "      <td>...</td>\n",
       "      <td>...</td>\n",
       "      <td>...</td>\n",
       "      <td>...</td>\n",
       "      <td>...</td>\n",
       "      <td>...</td>\n",
       "      <td>...</td>\n",
       "      <td>...</td>\n",
       "      <td>...</td>\n",
       "      <td>...</td>\n",
       "      <td>...</td>\n",
       "      <td>...</td>\n",
       "      <td>...</td>\n",
       "      <td>...</td>\n",
       "      <td>...</td>\n",
       "      <td>...</td>\n",
       "      <td>...</td>\n",
       "    </tr>\n",
       "    <tr>\n",
       "      <th>19994</th>\n",
       "      <td>0</td>\n",
       "      <td>0</td>\n",
       "      <td>0</td>\n",
       "      <td>0</td>\n",
       "      <td>0</td>\n",
       "      <td>0</td>\n",
       "      <td>0</td>\n",
       "      <td>0</td>\n",
       "      <td>0</td>\n",
       "      <td>0</td>\n",
       "      <td>...</td>\n",
       "      <td>0</td>\n",
       "      <td>0</td>\n",
       "      <td>0</td>\n",
       "      <td>0</td>\n",
       "      <td>0</td>\n",
       "      <td>0</td>\n",
       "      <td>0</td>\n",
       "      <td>0</td>\n",
       "      <td>0</td>\n",
       "      <td>0</td>\n",
       "    </tr>\n",
       "    <tr>\n",
       "      <th>19995</th>\n",
       "      <td>1</td>\n",
       "      <td>0</td>\n",
       "      <td>0</td>\n",
       "      <td>0</td>\n",
       "      <td>0</td>\n",
       "      <td>0</td>\n",
       "      <td>0</td>\n",
       "      <td>0</td>\n",
       "      <td>0</td>\n",
       "      <td>0</td>\n",
       "      <td>...</td>\n",
       "      <td>0</td>\n",
       "      <td>0</td>\n",
       "      <td>0</td>\n",
       "      <td>0</td>\n",
       "      <td>0</td>\n",
       "      <td>0</td>\n",
       "      <td>0</td>\n",
       "      <td>0</td>\n",
       "      <td>0</td>\n",
       "      <td>0</td>\n",
       "    </tr>\n",
       "    <tr>\n",
       "      <th>19996</th>\n",
       "      <td>2</td>\n",
       "      <td>0</td>\n",
       "      <td>0</td>\n",
       "      <td>0</td>\n",
       "      <td>0</td>\n",
       "      <td>0</td>\n",
       "      <td>0</td>\n",
       "      <td>0</td>\n",
       "      <td>0</td>\n",
       "      <td>0</td>\n",
       "      <td>...</td>\n",
       "      <td>0</td>\n",
       "      <td>0</td>\n",
       "      <td>0</td>\n",
       "      <td>0</td>\n",
       "      <td>0</td>\n",
       "      <td>0</td>\n",
       "      <td>0</td>\n",
       "      <td>0</td>\n",
       "      <td>0</td>\n",
       "      <td>0</td>\n",
       "    </tr>\n",
       "    <tr>\n",
       "      <th>19997</th>\n",
       "      <td>9</td>\n",
       "      <td>0</td>\n",
       "      <td>0</td>\n",
       "      <td>0</td>\n",
       "      <td>0</td>\n",
       "      <td>0</td>\n",
       "      <td>0</td>\n",
       "      <td>0</td>\n",
       "      <td>0</td>\n",
       "      <td>0</td>\n",
       "      <td>...</td>\n",
       "      <td>0</td>\n",
       "      <td>0</td>\n",
       "      <td>0</td>\n",
       "      <td>0</td>\n",
       "      <td>0</td>\n",
       "      <td>0</td>\n",
       "      <td>0</td>\n",
       "      <td>0</td>\n",
       "      <td>0</td>\n",
       "      <td>0</td>\n",
       "    </tr>\n",
       "    <tr>\n",
       "      <th>19998</th>\n",
       "      <td>5</td>\n",
       "      <td>0</td>\n",
       "      <td>0</td>\n",
       "      <td>0</td>\n",
       "      <td>0</td>\n",
       "      <td>0</td>\n",
       "      <td>0</td>\n",
       "      <td>0</td>\n",
       "      <td>0</td>\n",
       "      <td>0</td>\n",
       "      <td>...</td>\n",
       "      <td>0</td>\n",
       "      <td>0</td>\n",
       "      <td>0</td>\n",
       "      <td>0</td>\n",
       "      <td>0</td>\n",
       "      <td>0</td>\n",
       "      <td>0</td>\n",
       "      <td>0</td>\n",
       "      <td>0</td>\n",
       "      <td>0</td>\n",
       "    </tr>\n",
       "  </tbody>\n",
       "</table>\n",
       "<p>19999 rows × 785 columns</p>\n",
       "</div>"
      ],
      "text/plain": [
       "       6  0  0.1  0.2  0.3  0.4  0.5  0.6  0.7  0.8  ...  0.581  0.582  0.583  \\\n",
       "0      5  0    0    0    0    0    0    0    0    0  ...      0      0      0   \n",
       "1      7  0    0    0    0    0    0    0    0    0  ...      0      0      0   \n",
       "2      9  0    0    0    0    0    0    0    0    0  ...      0      0      0   \n",
       "3      5  0    0    0    0    0    0    0    0    0  ...      0      0      0   \n",
       "4      2  0    0    0    0    0    0    0    0    0  ...      0      0      0   \n",
       "...   .. ..  ...  ...  ...  ...  ...  ...  ...  ...  ...    ...    ...    ...   \n",
       "19994  0  0    0    0    0    0    0    0    0    0  ...      0      0      0   \n",
       "19995  1  0    0    0    0    0    0    0    0    0  ...      0      0      0   \n",
       "19996  2  0    0    0    0    0    0    0    0    0  ...      0      0      0   \n",
       "19997  9  0    0    0    0    0    0    0    0    0  ...      0      0      0   \n",
       "19998  5  0    0    0    0    0    0    0    0    0  ...      0      0      0   \n",
       "\n",
       "       0.584  0.585  0.586  0.587  0.588  0.589  0.590  \n",
       "0          0      0      0      0      0      0      0  \n",
       "1          0      0      0      0      0      0      0  \n",
       "2          0      0      0      0      0      0      0  \n",
       "3          0      0      0      0      0      0      0  \n",
       "4          0      0      0      0      0      0      0  \n",
       "...      ...    ...    ...    ...    ...    ...    ...  \n",
       "19994      0      0      0      0      0      0      0  \n",
       "19995      0      0      0      0      0      0      0  \n",
       "19996      0      0      0      0      0      0      0  \n",
       "19997      0      0      0      0      0      0      0  \n",
       "19998      0      0      0      0      0      0      0  \n",
       "\n",
       "[19999 rows x 785 columns]"
      ]
     },
     "execution_count": 3,
     "metadata": {},
     "output_type": "execute_result"
    }
   ],
   "source": [
    "datat"
   ]
  },
  {
   "cell_type": "code",
   "execution_count": 4,
   "id": "90ef36b8",
   "metadata": {},
   "outputs": [],
   "source": [
    "# data = np.array(edatatraining)\n",
    "# data = np.array(datatitanictrain)\n",
    "data = np.array(datat)"
   ]
  },
  {
   "cell_type": "code",
   "execution_count": 5,
   "id": "0cbc5d68",
   "metadata": {},
   "outputs": [
    {
     "data": {
      "text/plain": [
       "array([[5, 0, 0, ..., 0, 0, 0],\n",
       "       [7, 0, 0, ..., 0, 0, 0],\n",
       "       [9, 0, 0, ..., 0, 0, 0],\n",
       "       ...,\n",
       "       [2, 0, 0, ..., 0, 0, 0],\n",
       "       [9, 0, 0, ..., 0, 0, 0],\n",
       "       [5, 0, 0, ..., 0, 0, 0]])"
      ]
     },
     "execution_count": 5,
     "metadata": {},
     "output_type": "execute_result"
    }
   ],
   "source": [
    "data"
   ]
  },
  {
   "cell_type": "code",
   "execution_count": 6,
   "id": "351254dc",
   "metadata": {},
   "outputs": [
    {
     "name": "stdout",
     "output_type": "stream",
     "text": [
      "19999 785\n"
     ]
    }
   ],
   "source": [
    "m, n = data.shape\n",
    "print(m, n)"
   ]
  },
  {
   "cell_type": "code",
   "execution_count": 7,
   "id": "06e8b341",
   "metadata": {},
   "outputs": [],
   "source": [
    "np.random.shuffle(data) # shuffle before splitting into dev and training sets"
   ]
  },
  {
   "cell_type": "code",
   "execution_count": 8,
   "id": "6f71024d",
   "metadata": {},
   "outputs": [],
   "source": [
    "data_dev = data[0:1000].T # transposing first 1000 inputs to make vectors"
   ]
  },
  {
   "cell_type": "code",
   "execution_count": 9,
   "id": "bf8ed06e",
   "metadata": {},
   "outputs": [
    {
     "data": {
      "text/plain": [
       "array([[1, 9, 7, ..., 9, 1, 5],\n",
       "       [0, 0, 0, ..., 0, 0, 0],\n",
       "       [0, 0, 0, ..., 0, 0, 0],\n",
       "       ...,\n",
       "       [0, 0, 0, ..., 0, 0, 0],\n",
       "       [0, 0, 0, ..., 0, 0, 0],\n",
       "       [0, 0, 0, ..., 0, 0, 0]])"
      ]
     },
     "execution_count": 9,
     "metadata": {},
     "output_type": "execute_result"
    }
   ],
   "source": [
    "data_dev"
   ]
  },
  {
   "cell_type": "code",
   "execution_count": 10,
   "id": "db7b8b5b",
   "metadata": {},
   "outputs": [],
   "source": [
    "support_y_dev = data_dev[0]\n",
    "support_x_dev = data_dev[1:n]\n",
    "support_x_dev = support_x_dev / 255."
   ]
  },
  {
   "cell_type": "code",
   "execution_count": 11,
   "id": "74d59a8e",
   "metadata": {},
   "outputs": [
    {
     "data": {
      "text/plain": [
       "array([1, 9, 7, 0, 2, 2, 4, 5, 4, 3, 2, 6, 5, 5, 6, 8, 9, 3, 2, 6, 7, 8,\n",
       "       9, 6, 8, 0, 9, 6, 3, 2, 3, 4, 4, 4, 1, 6, 9, 8, 9, 8, 2, 3, 2, 4,\n",
       "       7, 2, 1, 1, 1, 9, 6, 0, 8, 3, 2, 9, 9, 2, 7, 1, 3, 6, 7, 0, 1, 8,\n",
       "       7, 6, 4, 8, 8, 2, 7, 3, 2, 0, 3, 0, 0, 2, 7, 8, 1, 5, 8, 6, 2, 1,\n",
       "       2, 0, 4, 4, 6, 7, 7, 7, 1, 1, 0, 3, 8, 4, 0, 0, 2, 6, 4, 3, 8, 9,\n",
       "       1, 9, 9, 3, 7, 8, 9, 3, 5, 1, 4, 0, 6, 7, 3, 7, 6, 6, 9, 7, 3, 8,\n",
       "       3, 9, 2, 9, 8, 1, 0, 4, 9, 2, 8, 6, 9, 1, 0, 1, 6, 7, 0, 4, 2, 0,\n",
       "       6, 3, 1, 7, 7, 4, 7, 0, 1, 1, 2, 9, 1, 4, 4, 0, 8, 5, 1, 2, 4, 7,\n",
       "       2, 5, 1, 8, 2, 0, 1, 2, 9, 2, 2, 1, 4, 0, 2, 8, 5, 6, 4, 1, 2, 4,\n",
       "       3, 7, 3, 0, 7, 5, 7, 2, 4, 1, 3, 1, 3, 9, 9, 8, 1, 1, 7, 8, 6, 1,\n",
       "       6, 3, 4, 1, 0, 6, 3, 3, 7, 7, 5, 8, 5, 1, 3, 9, 0, 2, 8, 8, 9, 6,\n",
       "       3, 2, 9, 5, 6, 7, 5, 5, 1, 8, 1, 0, 8, 9, 9, 4, 4, 3, 4, 1, 1, 1,\n",
       "       4, 9, 9, 4, 0, 3, 2, 0, 6, 2, 1, 9, 3, 2, 3, 8, 8, 1, 1, 3, 1, 3,\n",
       "       2, 8, 0, 3, 6, 5, 1, 8, 7, 4, 3, 5, 4, 7, 9, 2, 5, 7, 7, 1, 2, 5,\n",
       "       4, 6, 7, 5, 4, 4, 8, 3, 7, 9, 2, 8, 4, 8, 5, 1, 7, 7, 9, 1, 7, 1,\n",
       "       8, 8, 0, 4, 3, 5, 7, 4, 7, 8, 1, 5, 6, 6, 9, 7, 1, 3, 8, 1, 7, 8,\n",
       "       1, 2, 5, 7, 0, 4, 1, 8, 2, 5, 7, 1, 1, 5, 1, 1, 6, 6, 8, 6, 3, 9,\n",
       "       0, 4, 4, 9, 9, 0, 5, 3, 8, 0, 9, 4, 8, 4, 4, 2, 8, 9, 8, 4, 0, 7,\n",
       "       8, 1, 3, 6, 4, 0, 8, 6, 9, 9, 1, 0, 9, 5, 5, 6, 2, 8, 7, 3, 7, 0,\n",
       "       4, 9, 1, 6, 7, 6, 1, 0, 0, 1, 7, 1, 5, 6, 5, 4, 5, 0, 4, 7, 4, 3,\n",
       "       8, 6, 4, 8, 3, 6, 4, 1, 6, 5, 5, 3, 4, 3, 0, 3, 6, 2, 5, 6, 3, 0,\n",
       "       9, 6, 1, 6, 1, 0, 1, 5, 1, 1, 7, 8, 8, 3, 2, 6, 3, 8, 1, 4, 2, 2,\n",
       "       7, 3, 9, 4, 1, 1, 3, 7, 4, 4, 2, 6, 9, 3, 8, 4, 3, 4, 4, 7, 9, 5,\n",
       "       2, 4, 2, 8, 7, 5, 8, 4, 1, 3, 4, 3, 9, 7, 6, 1, 4, 6, 6, 3, 7, 7,\n",
       "       2, 1, 7, 6, 4, 6, 9, 2, 5, 0, 7, 9, 0, 1, 9, 4, 9, 0, 9, 8, 9, 7,\n",
       "       9, 6, 5, 0, 9, 6, 6, 9, 3, 4, 9, 5, 3, 1, 1, 6, 6, 5, 6, 4, 3, 1,\n",
       "       9, 1, 7, 5, 9, 2, 3, 0, 1, 6, 2, 2, 9, 0, 5, 2, 0, 3, 0, 1, 4, 5,\n",
       "       7, 0, 1, 1, 1, 6, 2, 7, 0, 0, 8, 8, 6, 9, 6, 3, 0, 4, 1, 8, 6, 2,\n",
       "       6, 1, 7, 5, 8, 5, 6, 9, 1, 6, 1, 1, 9, 5, 8, 2, 1, 9, 1, 2, 8, 3,\n",
       "       0, 6, 5, 1, 2, 1, 4, 1, 7, 6, 9, 9, 0, 8, 8, 6, 8, 1, 5, 7, 5, 0,\n",
       "       2, 9, 6, 5, 4, 3, 1, 7, 9, 3, 5, 5, 7, 2, 7, 6, 6, 8, 6, 4, 2, 6,\n",
       "       5, 6, 4, 6, 0, 7, 0, 1, 2, 7, 8, 6, 6, 6, 9, 7, 1, 4, 0, 1, 9, 2,\n",
       "       3, 8, 7, 5, 6, 5, 0, 4, 9, 1, 5, 2, 1, 9, 4, 0, 7, 7, 8, 7, 0, 7,\n",
       "       9, 0, 2, 8, 4, 6, 2, 2, 2, 1, 6, 4, 1, 3, 3, 0, 3, 6, 0, 5, 4, 6,\n",
       "       7, 5, 6, 7, 2, 9, 5, 9, 0, 1, 3, 9, 8, 3, 3, 2, 4, 6, 1, 1, 0, 7,\n",
       "       6, 8, 9, 9, 2, 1, 7, 5, 1, 4, 5, 1, 2, 5, 9, 0, 3, 1, 7, 7, 1, 1,\n",
       "       8, 1, 0, 8, 4, 7, 5, 9, 1, 7, 2, 7, 3, 2, 7, 7, 4, 7, 5, 4, 2, 9,\n",
       "       6, 7, 6, 1, 3, 0, 6, 3, 1, 7, 7, 1, 5, 4, 1, 3, 3, 8, 9, 8, 1, 2,\n",
       "       1, 9, 1, 9, 0, 4, 7, 2, 0, 7, 0, 2, 4, 2, 6, 9, 7, 0, 9, 6, 6, 3,\n",
       "       5, 6, 6, 5, 2, 4, 4, 4, 1, 6, 1, 4, 8, 1, 3, 1, 0, 8, 4, 0, 3, 2,\n",
       "       8, 3, 1, 0, 7, 6, 3, 3, 7, 0, 4, 2, 5, 3, 1, 7, 4, 6, 4, 2, 0, 4,\n",
       "       0, 9, 9, 2, 0, 9, 2, 3, 3, 4, 1, 6, 8, 6, 8, 3, 0, 4, 7, 8, 3, 8,\n",
       "       7, 9, 8, 0, 8, 9, 9, 6, 2, 6, 2, 0, 1, 0, 8, 7, 9, 3, 0, 6, 3, 1,\n",
       "       2, 1, 1, 8, 5, 1, 5, 0, 0, 3, 0, 7, 6, 3, 4, 0, 7, 6, 7, 7, 1, 9,\n",
       "       0, 2, 5, 2, 1, 5, 9, 4, 4, 4, 9, 5, 1, 9, 1, 4, 3, 1, 1, 0, 3, 3,\n",
       "       4, 3, 6, 0, 7, 9, 3, 9, 1, 5])"
      ]
     },
     "execution_count": 11,
     "metadata": {},
     "output_type": "execute_result"
    }
   ],
   "source": [
    "support_y_dev # support Y, e.g. true Y or labels"
   ]
  },
  {
   "cell_type": "code",
   "execution_count": 12,
   "id": "dd8cd5ae",
   "metadata": {},
   "outputs": [
    {
     "data": {
      "text/plain": [
       "array([[0., 0., 0., ..., 0., 0., 0.],\n",
       "       [0., 0., 0., ..., 0., 0., 0.],\n",
       "       [0., 0., 0., ..., 0., 0., 0.],\n",
       "       ...,\n",
       "       [0., 0., 0., ..., 0., 0., 0.],\n",
       "       [0., 0., 0., ..., 0., 0., 0.],\n",
       "       [0., 0., 0., ..., 0., 0., 0.]])"
      ]
     },
     "execution_count": 12,
     "metadata": {},
     "output_type": "execute_result"
    }
   ],
   "source": [
    "support_x_dev # support X"
   ]
  },
  {
   "cell_type": "code",
   "execution_count": 13,
   "id": "d7106003",
   "metadata": {},
   "outputs": [],
   "source": [
    "data_train = data[1000:m].T\n",
    "# data_train \n",
    "support_y_train = data_train[0]\n",
    "support_x_train = data_train[1:n]\n",
    "support_x_train = support_x_train / 255.\n",
    "_,m_train = support_x_train.shape"
   ]
  },
  {
   "cell_type": "code",
   "execution_count": 14,
   "id": "4a260bf1",
   "metadata": {},
   "outputs": [
    {
     "data": {
      "text/plain": [
       "18999"
      ]
     },
     "execution_count": 14,
     "metadata": {},
     "output_type": "execute_result"
    }
   ],
   "source": [
    "support_y_train.T.size"
   ]
  },
  {
   "cell_type": "markdown",
   "id": "39fc8722",
   "metadata": {},
   "source": [
    "Our NN will have a simple two-layer architecture.  \n",
    "Input layer  𝑎[0] will have 784 units corresponding to the 784 pixels in each 28x28 input image.   \n",
    "A hidden layer  𝑎[1] will have 10 units with ReLU activation, and finally our output layer  𝑎[2]  \n",
    "will have 10 units corresponding to the ten digit classes with softmax activation."
   ]
  },
  {
   "cell_type": "code",
   "execution_count": 15,
   "id": "14913a4b",
   "metadata": {},
   "outputs": [],
   "source": [
    "def init_params():\n",
    "    W1 = np.random.normal(size=(10, 784)) * np.sqrt(1./(784)) ## Initializing 784 weights for the first hidden layer\n",
    "    b1 = np.random.normal(size=(10, 1)) * np.sqrt(1./10) ## Init bias for the first hidden layer\n",
    "    W2 = np.random.normal(size=(10, 10)) * np.sqrt(1./20) ## Initializing 10 weights for the second hidden layer\n",
    "    b2 = np.random.normal(size=(10, 1)) * np.sqrt(1./(784)) ## Init bias for the second hidden layer\n",
    "    return W1, b1, W2, b2"
   ]
  },
  {
   "cell_type": "markdown",
   "id": "12df4268",
   "metadata": {},
   "source": [
    "Non-linear Activation functions as ReLU and Sigmoid allows the network to learn non-linear relationships between the data."
   ]
  },
  {
   "cell_type": "code",
   "execution_count": 16,
   "id": "b2f5b518",
   "metadata": {},
   "outputs": [],
   "source": [
    "def ReLU(Z):\n",
    "    return np.maximum(Z, 0)"
   ]
  },
  {
   "cell_type": "markdown",
   "id": "be8d21b2",
   "metadata": {},
   "source": [
    "ReLU activation \n",
    "$$\n",
    "\\left\\{\n",
    "\\begin{array}{l}\n",
    "x  \\ \\ if \\ \\ x \\ \\ >0 \\\\\n",
    "0  \\ \\ if \\ \\ x \\ \\ <= 0\\\\\n",
    "\\end{array}\n",
    "\\right.\n",
    "$$"
   ]
  },
  {
   "cell_type": "code",
   "execution_count": 17,
   "id": "1d1a1dc6",
   "metadata": {},
   "outputs": [],
   "source": [
    "def sigmoid(Z):\n",
    "    return 1/(1+np.e**(-Z))"
   ]
  },
  {
   "cell_type": "markdown",
   "id": "088af9c5",
   "metadata": {},
   "source": [
    "Sigmoid activation functions\n",
    "\n",
    "$$\\sigma(n) = \\frac{1}{1 + e^{-n}}$$\n"
   ]
  },
  {
   "cell_type": "code",
   "execution_count": 18,
   "id": "386e54ca",
   "metadata": {},
   "outputs": [],
   "source": [
    "def softmax(Z):\n",
    "    A = np.exp(Z) / sum(np.exp(Z))\n",
    "    return A"
   ]
  },
  {
   "cell_type": "markdown",
   "id": "3e344821",
   "metadata": {},
   "source": [
    "Softmax activation functions\n",
    "$$softmax(Z)_{i} = \\frac{e^{Z_{i}}}{\\sum \\limits _{i=1} ^{N}{e^{Z{j}}}}$$"
   ]
  },
  {
   "cell_type": "code",
   "execution_count": 19,
   "id": "be6f16da",
   "metadata": {},
   "outputs": [],
   "source": [
    "  def forward_prop(W1, b1, W2, b2, X, activation_function=ReLU):\n",
    "    Z1 = W1.dot(X) + b1\n",
    "    A1 = activation_function(Z1)\n",
    "    Z2 = W2.dot(A1) + b2\n",
    "    A2 = softmax(Z2)\n",
    "    return Z1, A1, Z2, A2"
   ]
  },
  {
   "cell_type": "markdown",
   "id": "b5207045",
   "metadata": {},
   "source": [
    "Forward propogation\n",
    "\n",
    "$$\n",
    "𝑍_{1}=𝑊_{1}𝑋+𝑏_{1} \\\\\n",
    "𝐴_{1}=𝑔ReLU(𝑍_{1}) \\ or \\ A_{1} = gSigmoid(Z_{1}) \\\\\n",
    "𝑍_{2}=𝑊_{2}𝐴_{1}+𝑏_{2} \\\\\n",
    "𝐴_{2}=𝑔softmax(𝑍_{2}) \\\\\n",
    "$$"
   ]
  },
  {
   "cell_type": "code",
   "execution_count": 20,
   "id": "7f912ee7",
   "metadata": {
    "scrolled": true
   },
   "outputs": [],
   "source": [
    "def ReLU_deriv(Z):\n",
    "    return Z > 0\n",
    "\n",
    "def one_hot(Y):\n",
    "#     print(Y.size)\n",
    "#     print(Y.max())\n",
    "    one_hot_Y = np.zeros((Y.size, Y.max() + 1))\n",
    "    one_hot_Y[np.arange(Y.size), Y] = 1\n",
    "    one_hot_Y = one_hot_Y.T\n",
    "    return one_hot_Y\n",
    "\n",
    "def backward_prop(Z1, A1, Z2, A2, W1, W2, X, Y):\n",
    "    one_hot_Y = one_hot(Y)\n",
    "#     print(one_hot_Y)\n",
    "#     print(A2)\n",
    "#     print(A2.shape)\n",
    "#     print(one_hot_Y.shape)\n",
    "    dZ2 = A2 - one_hot_Y\n",
    "    dW2 = 1 / m * dZ2.dot(A1.T)\n",
    "    db2 = 1 / m * np.sum(dZ2)\n",
    "    dZ1 = W2.T.dot(dZ2) * ReLU_deriv(Z1)\n",
    "    dW1 = 1 / m * dZ1.dot(X.T)\n",
    "    db1 = 1 / m * np.sum(dZ1)\n",
    "    return dW1, db1, dW2, db2"
   ]
  },
  {
   "cell_type": "code",
   "execution_count": 21,
   "id": "4c5a5a2e",
   "metadata": {},
   "outputs": [],
   "source": [
    "def update_params(W1, b1, W2, b2, dW1, db1, dW2, db2, alpha):\n",
    "    W1 = W1 - alpha * dW1\n",
    "    b1 = b1 - alpha * db1    \n",
    "    W2 = W2 - alpha * dW2  \n",
    "    b2 = b2 - alpha * db2    \n",
    "    return W1, b1, W2, b2"
   ]
  },
  {
   "cell_type": "markdown",
   "id": "2f6c2a9c",
   "metadata": {},
   "source": [
    "Backward propagation\n",
    "\n",
    "$$\n",
    "\\partial(𝑍_{2})=𝐴_{2}−𝑌 \\\\\n",
    "\\partial(𝑊_{2})=\\frac{1}{𝑚}\\partial(𝑍_{2})𝐴_{1}.𝑇 \\\\\n",
    "\\partial(b_{2})=\\frac{1}{𝑚} \\sum \\partial(𝑍_{2}) \\\\\n",
    "\\partial(𝑍_{1})=𝑊_{2}.𝑇 \\ \\partial(𝑍_{2}) 𝑔_{1}′(𝑧_{1}) \\\\\n",
    "𝑑𝑊[1]=1𝑚𝑑𝑍[1]𝐴[0]𝑇 \\\\\n",
    "𝑑𝐵[1]=1𝑚Σ𝑑𝑍 \\\\\n",
    "$$"
   ]
  },
  {
   "cell_type": "markdown",
   "id": "afa3f96e",
   "metadata": {},
   "source": [
    "Alpha in gradient descent a selected learning rate by which we can control the jump size of the weight update in each iteration. Selecting proper alpha is a metter of experementing. Preferred values are 0.1, 0.01, 0.001"
   ]
  },
  {
   "cell_type": "code",
   "execution_count": 22,
   "id": "1d05c872",
   "metadata": {},
   "outputs": [],
   "source": [
    "def get_predictions(A2):\n",
    "    return np.argmax(A2, 0)\n",
    "\n",
    "def get_accuracy(predictions, Y):\n",
    "    #print(predictions, Y)\n",
    "    return np.sum(predictions == Y) / Y.size\n",
    "\n",
    "def gradient_descent(X, Y, alpha, iterations):\n",
    "    W1, b1, W2, b2 = init_params()\n",
    "    for i in range(iterations):\n",
    "        Z1, A1, Z2, A2 = forward_prop(W1, b1, W2, b2, X)\n",
    "        dW1, db1, dW2, db2 = backward_prop(Z1, A1, Z2, A2, W1, W2, X, Y)\n",
    "        W1, b1, W2, b2 = update_params(W1, b1, W2, b2, dW1, db1, dW2, db2, alpha)\n",
    "        if i % 100 == 0:\n",
    "            print(f\"Iteration: {i}\")\n",
    "            predictions = get_predictions(A2)\n",
    "            print(f\"Accuracy: {get_accuracy(predictions, Y)}\")\n",
    "    return W1, b1, W2, b2"
   ]
  },
  {
   "cell_type": "code",
   "execution_count": 23,
   "id": "9791a7c5",
   "metadata": {},
   "outputs": [
    {
     "name": "stdout",
     "output_type": "stream",
     "text": [
      "Iteration: 0\n",
      "Accuracy: 0.1052160640033686\n",
      "Iteration: 100\n",
      "Accuracy: 0.8938891520606348\n",
      "Iteration: 200\n",
      "Accuracy: 0.9173640717932523\n",
      "Iteration: 300\n",
      "Accuracy: 0.928312016421917\n",
      "Iteration: 400\n",
      "Accuracy: 0.9351544818148324\n",
      "Iteration: 500\n",
      "Accuracy: 0.9386809832096427\n",
      "Iteration: 600\n",
      "Accuracy: 0.9364703405442392\n",
      "Iteration: 700\n",
      "Accuracy: 0.944733933364914\n",
      "Iteration: 800\n",
      "Accuracy: 0.9362071687983579\n",
      "Iteration: 900\n",
      "Accuracy: 0.9464182325385546\n"
     ]
    }
   ],
   "source": [
    "W1, b1, W2, b2 = gradient_descent(support_x_train, support_y_train, 0.50, 1000) # Train NN, 1000 iterations over train dataset"
   ]
  },
  {
   "cell_type": "code",
   "execution_count": 24,
   "id": "6891601b",
   "metadata": {},
   "outputs": [],
   "source": [
    "def make_predictions(X, W1, b1, W2, b2):\n",
    "#     print(X)\n",
    "    _, _, _, A2 = forward_prop(W1, b1, W2, b2, X)\n",
    "    predictions = get_predictions(A2)\n",
    "    return predictions\n",
    "\n",
    "def test_prediction(index, W1, b1, W2, b2):\n",
    "    current_image = support_x_train[:, index, None]\n",
    "    prediction = make_predictions(support_x_train[:, index, None], W1, b1, W2, b2)\n",
    "    label = support_y_train[index]\n",
    "    print(\"Prediction: \", prediction)\n",
    "    print(\"Label: \", label)\n",
    "    \n",
    "    current_image = current_image.reshape((28, 28)) * 255\n",
    "    plt.gray()\n",
    "    plt.imshow(current_image, interpolation='nearest')\n",
    "    plt.show()"
   ]
  },
  {
   "cell_type": "code",
   "execution_count": 33,
   "id": "91587933",
   "metadata": {},
   "outputs": [],
   "source": [
    "# from drawdata import ScatterWidget\n",
    "\n",
    "# widget = ScatterWidget()\n",
    "# widget"
   ]
  },
  {
   "cell_type": "code",
   "execution_count": 34,
   "id": "cf2beadb",
   "metadata": {},
   "outputs": [],
   "source": [
    "# type(support_x_train)\n",
    "# df = widget.data_as_X_y\n",
    "# df"
   ]
  },
  {
   "cell_type": "code",
   "execution_count": 25,
   "id": "148adfc5",
   "metadata": {},
   "outputs": [
    {
     "name": "stdout",
     "output_type": "stream",
     "text": [
      "Prediction:  [8]\n",
      "Label:  8\n"
     ]
    },
    {
     "data": {
      "image/png": "[encoded data removed]",
      "text/plain": [
       "<Figure size 432x288 with 1 Axes>"
      ]
     },
     "metadata": {
      "needs_background": "light"
     },
     "output_type": "display_data"
    }
   ],
   "source": [
    "test_prediction(0, W1, b1, W2, b2)"
   ]
  },
  {
   "cell_type": "code",
   "execution_count": 26,
   "id": "54277966",
   "metadata": {},
   "outputs": [
    {
     "name": "stdout",
     "output_type": "stream",
     "text": [
      "Prediction:  [3]\n",
      "Label:  3\n"
     ]
    },
    {
     "data": {
      "image/png": "[encoded data removed]",
      "text/plain": [
       "<Figure size 432x288 with 1 Axes>"
      ]
     },
     "metadata": {
      "needs_background": "light"
     },
     "output_type": "display_data"
    }
   ],
   "source": [
    "test_prediction(100, W1, b1, W2, b2)"
   ]
  },
  {
   "cell_type": "code",
   "execution_count": 27,
   "id": "8a784d00",
   "metadata": {},
   "outputs": [
    {
     "name": "stdout",
     "output_type": "stream",
     "text": [
      "Prediction:  [9]\n",
      "Label:  9\n"
     ]
    },
    {
     "data": {
      "image/png": "[encoded data removed]",
      "text/plain": [
       "<Figure size 432x288 with 1 Axes>"
      ]
     },
     "metadata": {
      "needs_background": "light"
     },
     "output_type": "display_data"
    }
   ],
   "source": [
    "test_prediction(7864, W1, b1, W2, b2)"
   ]
  },
  {
   "cell_type": "code",
   "execution_count": 28,
   "id": "c9282a88",
   "metadata": {},
   "outputs": [
    {
     "name": "stdout",
     "output_type": "stream",
     "text": [
      "Prediction:  [2]\n",
      "Label:  2\n"
     ]
    },
    {
     "data": {
      "image/png": "[encoded data removed]",
      "text/plain": [
       "<Figure size 432x288 with 1 Axes>"
      ]
     },
     "metadata": {
      "needs_background": "light"
     },
     "output_type": "display_data"
    }
   ],
   "source": [
    "test_prediction(6000, W1, b1, W2, b2)"
   ]
  }
 ],
 "metadata": {
  "kernelspec": {
   "display_name": "Python 3 (ipykernel)",
   "language": "python",
   "name": "python3"
  },
  "language_info": {
   "codemirror_mode": {
    "name": "ipython",
    "version": 3
   },
   "file_extension": ".py",
   "mimetype": "text/x-python",
   "name": "python",
   "nbconvert_exporter": "python",
   "pygments_lexer": "ipython3",
   "version": "3.9.16"
  }
 },
 "nbformat": 4,
 "nbformat_minor": 5
}
